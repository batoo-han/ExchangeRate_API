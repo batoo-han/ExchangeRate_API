{
  "nbformat": 4,
  "nbformat_minor": 0,
  "metadata": {
    "colab": {
      "provenance": [],
      "authorship_tag": "ABX9TyNbWb7UR4oeQ0yaG+YZsd49",
      "include_colab_link": true
    },
    "kernelspec": {
      "name": "python3",
      "display_name": "Python 3"
    },
    "language_info": {
      "name": "python"
    }
  },
  "cells": [
    {
      "cell_type": "markdown",
      "metadata": {
        "id": "view-in-github",
        "colab_type": "text"
      },
      "source": [
        "<a href=\"https://colab.research.google.com/github/batoo-han/ExchangeRate_API/blob/main/ExchangeRate_API.ipynb\" target=\"_parent\"><img src=\"https://colab.research.google.com/assets/colab-badge.svg\" alt=\"Open In Colab\"/></a>"
      ]
    },
    {
      "cell_type": "code",
      "execution_count": null,
      "metadata": {
        "id": "lBk5nR0oQxyB"
      },
      "outputs": [],
      "source": [
        "import requests\n",
        "from tabulate import tabulate\n",
        "\n",
        "def get_currency_rates():\n",
        "    # Список поддерживаемых валют (сокращенный вариант)\n",
        "    currencies = [\n",
        "        {\"code\": \"USD\", \"name\": \"US Dollar\", \"country\": \"United States\"},\n",
        "        {\"code\": \"EUR\", \"name\": \"Euro\", \"country\": \"European Union\"},\n",
        "        {\"code\": \"GBP\", \"name\": \"British Pound\", \"country\": \"United Kingdom\"},\n",
        "        {\"code\": \"JPY\", \"name\": \"Japanese Yen\", \"country\": \"Japan\"},\n",
        "        {\"code\": \"AUD\", \"name\": \"Australian Dollar\", \"country\": \"Australia\"},\n",
        "        {\"code\": \"CAD\", \"name\": \"Canadian Dollar\", \"country\": \"Canada\"},\n",
        "        {\"code\": \"CHF\", \"name\": \"Swiss Franc\", \"country\": \"Switzerland\"},\n",
        "        {\"code\": \"CNY\", \"name\": \"Chinese Yuan\", \"country\": \"China\"},\n",
        "        {\"code\": \"RUB\", \"name\": \"Russian Ruble\", \"country\": \"Russia\"},\n",
        "        {\"code\": \"UAH\", \"name\": \"Ukrainian Hryvnia\", \"country\": \"Ukraine\"},\n",
        "    ]\n",
        "\n",
        "    # Выводим таблицу с валютами\n",
        "    print(\"Доступные валюты:\")\n",
        "    table = []\n",
        "    for curr in currencies:\n",
        "        table.append([curr[\"code\"], curr[\"name\"], curr[\"country\"]])\n",
        "    print(tabulate(table, headers=[\"Код\", \"Название\", \"Страна\"], tablefmt=\"grid\"))\n",
        "\n",
        "    # Запрашиваем базовую валюту\n",
        "    base_currency = input(\"\\nВведите код базовой валюты (например USD): \").upper().strip()\n",
        "\n",
        "    # Проверяем, есть ли такая валюта в списке\n",
        "    if not any(curr[\"code\"] == base_currency for curr in currencies):\n",
        "        print(\"Ошибка: Валюта не найдена в списке поддерживаемых.\")\n",
        "        return\n",
        "\n",
        "    # API ключ\n",
        "    api_key = \"ExchangeRate_API\"  # Замените на ваш ключ\n",
        "\n",
        "    try:\n",
        "        # Отправляем запрос\n",
        "        url = f\"https://v6.exchangerate-api.com/v6/{api_key}/latest/{base_currency}\"\n",
        "        response = requests.get(url)\n",
        "        response.raise_for_status()\n",
        "\n",
        "        data = response.json()\n",
        "\n",
        "        if data.get(\"result\") == \"error\":\n",
        "            print(f\"Ошибка API: {data.get('error-type', 'Неизвестная ошибка')}\")\n",
        "            return\n",
        "\n",
        "        if not data.get(\"conversion_rates\"):\n",
        "            print(\"Курсы валют не найдены.\")\n",
        "            return\n",
        "\n",
        "        # Выводим результат\n",
        "        print(f\"\\nКурсы валют на {data.get('time_last_update_utc', 'неизвестную дату')}\")\n",
        "        print(f\"Базовая валюта: {base_currency}\\n\")\n",
        "\n",
        "        rates = []\n",
        "        for code, rate in data[\"conversion_rates\"].items():\n",
        "            rates.append([code, f\"{rate:.4f}\"])\n",
        "\n",
        "        print(tabulate(rates, headers=[\"Валюта\", \"Курс\"], tablefmt=\"grid\"))\n",
        "\n",
        "    except requests.exceptions.RequestException as e:\n",
        "        print(f\"Ошибка подключения: {e}\")\n",
        "    except Exception as e:\n",
        "        print(f\"Произошла ошибка: {e}\")\n",
        "\n",
        "if __name__ == \"__main__\":\n",
        "    get_currency_rates()"
      ]
    }
  ]
}